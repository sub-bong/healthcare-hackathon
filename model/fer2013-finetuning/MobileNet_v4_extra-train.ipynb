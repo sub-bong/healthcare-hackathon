{
 "cells": [
  {
   "cell_type": "code",
   "execution_count": 1,
   "metadata": {
    "colab": {
     "base_uri": "https://localhost:8080/"
    },
    "executionInfo": {
     "elapsed": 7352,
     "status": "ok",
     "timestamp": 1758247191627,
     "user": {
      "displayName": "YEON SEOK JU",
      "userId": "18169679349381523278"
     },
     "user_tz": -540
    },
    "id": "-O2Hs03zq8S2",
    "outputId": "63d3f6cf-3933-4b14-c585-6b0008d98f0a"
   },
   "outputs": [
    {
     "name": "stdout",
     "output_type": "stream",
     "text": [
      "/content/drive/MyDrive/00.Personal/project/health-hackathon\n"
     ]
    }
   ],
   "source": [
    "# 데이터 content 경로에 압축해제\n",
    "import os\n",
    "\n",
    "if not os.path.exists('/content/fer2013'):\n",
    "    %cd /content/drive/MyDrive/00.Personal/project/health-hackathon\n",
    "    !unzip -q ./data/fer2013.zip -d /content/fer2013 # 압축해제\n",
    "else:\n",
    "    print(\"이미 /content/fer2013 폴더가 존재합니다.\")"
   ]
  },
  {
   "cell_type": "code",
   "execution_count": 2,
   "metadata": {
    "colab": {
     "base_uri": "https://localhost:8080/"
    },
    "executionInfo": {
     "elapsed": 7,
     "status": "ok",
     "timestamp": 1758247191642,
     "user": {
      "displayName": "YEON SEOK JU",
      "userId": "18169679349381523278"
     },
     "user_tz": -540
    },
    "id": "J9SQsGVHotaQ",
    "outputId": "745a41e8-6a09-4df9-d0de-6fc76a49bfdc"
   },
   "outputs": [
    {
     "name": "stdout",
     "output_type": "stream",
     "text": [
      "/content/drive/MyDrive/00.Personal/project/health-hackathon/fer_project\n"
     ]
    }
   ],
   "source": [
    "%cd /content/drive/MyDrive/00.Personal/project/health-hackathon/fer_project\n",
    "import sys\n",
    "sys.path.append('/content/drive/MyDrive/00.Personal/project/health-hackathon/fer_project')"
   ]
  },
  {
   "cell_type": "code",
   "execution_count": 3,
   "metadata": {
    "colab": {
     "base_uri": "https://localhost:8080/"
    },
    "executionInfo": {
     "elapsed": 100,
     "status": "ok",
     "timestamp": 1758247191743,
     "user": {
      "displayName": "YEON SEOK JU",
      "userId": "18169679349381523278"
     },
     "user_tz": -540
    },
    "id": "xWMzizIvsdPU",
    "outputId": "33fc1a8b-9abe-4088-9936-79c53b985919"
   },
   "outputs": [
    {
     "name": "stdout",
     "output_type": "stream",
     "text": [
      "best_model_copy.pth  extra-train.ipynb\t\t requirements.txt\n",
      "best_model.pth\t     MobileNet_init_train.ipynb  train.py\n",
      "configs\t\t     models\t\t\t utils\n"
     ]
    }
   ],
   "source": [
    "!ls"
   ]
  },
  {
   "cell_type": "code",
   "execution_count": null,
   "metadata": {
    "colab": {
     "base_uri": "https://localhost:8080/",
     "height": 1000,
     "referenced_widgets": [
      "c9afc807bc754c38860f7dceeac81ee5",
      "7dbb93f818da44c1b352d11a20839c46",
      "8a5c2d95b73044d18f80526349409d0a",
      "e2fd07965ea94b6a8b68a980370ad7dc",
      "4eed20e56bf74925838f85cc931b0562",
      "b7758b4edb104071b4d45a0fb9a611a0",
      "4808ba5ac641485aae76b03dd5d4cdca",
      "c97bdaabd56a4a20be0ada60b33e106f",
      "f76db1ec2cd647288cd8c1b010a72841",
      "48300156ee2147f8965ccd99a63bae9f",
      "d5f428de8a5245d5b1016335876da959",
      "221e6e747d4d46c6aa3e2b27501c753d",
      "f2539eef78cd49a28fa994a5b7bed9d2",
      "6965f606caca4fdbb42ff6b00993de23",
      "1b33c8e2449647fa8469487b164643d7",
      "e799fa3929694ed2b22220eef13f9786",
      "f4f56eb0ada041ce836926a810a077a2",
      "f52be6b158194a2d9fb9d6191531ac73",
      "693904ee67364f0a906422db8d11d36c",
      "3ed8e1b5949b4ea2a14eec792bcb99bd",
      "90523796c5184d68b087d712645c0985",
      "56d5f2c7168347b9a8e9c737d9912249"
     ]
    },
    "executionInfo": {
     "elapsed": 3326530,
     "status": "ok",
     "timestamp": 1758250649450,
     "user": {
      "displayName": "YEON SEOK JU",
      "userId": "18169679349381523278"
     },
     "user_tz": -540
    },
    "id": "6mxgnhg7pM9J",
    "outputId": "4609379f-acc6-40c4-d572-6c2786ba7552"
   },
   "outputs": [
    {
     "name": "stderr",
     "output_type": "stream",
     "text": [
      "/usr/local/lib/python3.12/dist-packages/torch/utils/data/dataloader.py:627: UserWarning: This DataLoader will create 4 worker processes in total. Our suggested max number of worker in current system is 2, which is smaller than what this DataLoader is going to create. Please be aware that excessive worker creation might get DataLoader running slow or even freeze, lower the worker number to avoid potential slowness/freeze if necessary.\n",
      "  warnings.warn(\n",
      "/usr/local/lib/python3.12/dist-packages/huggingface_hub/utils/_auth.py:94: UserWarning: \n",
      "The secret `HF_TOKEN` does not exist in your Colab secrets.\n",
      "To authenticate with the Hugging Face Hub, create a token in your settings tab (https://huggingface.co/settings/tokens), set it as secret in your Google Colab and restart your session.\n",
      "You will be able to reuse this secret in all of your notebooks.\n",
      "Please note that authentication is recommended but still optional to access public models or datasets.\n",
      "  warnings.warn(\n"
     ]
    },
    {
     "data": {
      "application/vnd.jupyter.widget-view+json": {
       "model_id": "c9afc807bc754c38860f7dceeac81ee5",
       "version_major": 2,
       "version_minor": 0
      },
      "text/plain": [
       "config.json:   0%|          | 0.00/679 [00:00<?, ?B/s]"
      ]
     },
     "metadata": {},
     "output_type": "display_data"
    },
    {
     "data": {
      "application/vnd.jupyter.widget-view+json": {
       "model_id": "221e6e747d4d46c6aa3e2b27501c753d",
       "version_major": 2,
       "version_minor": 0
      },
      "text/plain": [
       "model.safetensors:   0%|          | 0.00/39.2M [00:00<?, ?B/s]"
      ]
     },
     "metadata": {},
     "output_type": "display_data"
    },
    {
     "name": "stdout",
     "output_type": "stream",
     "text": [
      "✅ best_model_copy.pth 로드 완료\n",
      "Stage 1: Training classifier only...\n",
      "extra_epochs = 10\n"
     ]
    },
    {
     "name": "stderr",
     "output_type": "stream",
     "text": [
      "Training: 100%|██████████| 113/113 [01:45<00:00,  1.07it/s]\n",
      "Validating: 100%|██████████| 29/29 [00:16<00:00,  1.74it/s]\n"
     ]
    },
    {
     "name": "stdout",
     "output_type": "stream",
     "text": [
      "Epoch 1/10:\n",
      "  Train Loss: 1.1253, Train Acc: 57.63%\n",
      "  Val Loss: 1.1259, Val Acc: 56.41%\n",
      "  새로운 최고 성능! 모델 저장됨 (Val Acc: 56.41%)\n",
      "\n"
     ]
    },
    {
     "name": "stderr",
     "output_type": "stream",
     "text": [
      "Training: 100%|██████████| 113/113 [01:42<00:00,  1.11it/s]\n",
      "Validating: 100%|██████████| 29/29 [00:15<00:00,  1.88it/s]\n"
     ]
    },
    {
     "name": "stdout",
     "output_type": "stream",
     "text": [
      "Epoch 2/10:\n",
      "  Train Loss: 1.1181, Train Acc: 57.83%\n",
      "  Val Loss: 1.1171, Val Acc: 56.34%\n",
      "\n"
     ]
    },
    {
     "name": "stderr",
     "output_type": "stream",
     "text": [
      "Training: 100%|██████████| 113/113 [01:38<00:00,  1.14it/s]\n",
      "Validating: 100%|██████████| 29/29 [00:15<00:00,  1.92it/s]\n"
     ]
    },
    {
     "name": "stdout",
     "output_type": "stream",
     "text": [
      "Epoch 3/10:\n",
      "  Train Loss: 1.1048, Train Acc: 58.30%\n",
      "  Val Loss: 1.1292, Val Acc: 56.06%\n",
      "\n"
     ]
    },
    {
     "name": "stderr",
     "output_type": "stream",
     "text": [
      "Training: 100%|██████████| 113/113 [01:38<00:00,  1.15it/s]\n",
      "Validating: 100%|██████████| 29/29 [00:15<00:00,  1.83it/s]\n"
     ]
    },
    {
     "name": "stdout",
     "output_type": "stream",
     "text": [
      "Epoch 4/10:\n",
      "  Train Loss: 1.0961, Train Acc: 58.64%\n",
      "  Val Loss: 1.1194, Val Acc: 56.28%\n",
      "\n"
     ]
    },
    {
     "name": "stderr",
     "output_type": "stream",
     "text": [
      "Training: 100%|██████████| 113/113 [01:40<00:00,  1.13it/s]\n",
      "Validating: 100%|██████████| 29/29 [00:17<00:00,  1.70it/s]\n"
     ]
    },
    {
     "name": "stdout",
     "output_type": "stream",
     "text": [
      "Epoch 5/10:\n",
      "  Train Loss: 1.0912, Train Acc: 58.67%\n",
      "  Val Loss: 1.1141, Val Acc: 56.30%\n",
      "\n"
     ]
    },
    {
     "name": "stderr",
     "output_type": "stream",
     "text": [
      "Training: 100%|██████████| 113/113 [01:39<00:00,  1.14it/s]\n",
      "Validating: 100%|██████████| 29/29 [00:16<00:00,  1.79it/s]\n"
     ]
    },
    {
     "name": "stdout",
     "output_type": "stream",
     "text": [
      "Epoch 6/10:\n",
      "  Train Loss: 1.0768, Train Acc: 59.49%\n",
      "  Val Loss: 1.1164, Val Acc: 56.19%\n",
      "\n"
     ]
    },
    {
     "name": "stderr",
     "output_type": "stream",
     "text": [
      "Training: 100%|██████████| 113/113 [01:40<00:00,  1.13it/s]\n",
      "Validating: 100%|██████████| 29/29 [00:16<00:00,  1.77it/s]\n"
     ]
    },
    {
     "name": "stdout",
     "output_type": "stream",
     "text": [
      "Epoch 7/10:\n",
      "  Train Loss: 1.0683, Train Acc: 59.61%\n",
      "  Val Loss: 1.1070, Val Acc: 56.87%\n",
      "  새로운 최고 성능! 모델 저장됨 (Val Acc: 56.87%)\n",
      "\n"
     ]
    },
    {
     "name": "stderr",
     "output_type": "stream",
     "text": [
      "Training: 100%|██████████| 113/113 [01:39<00:00,  1.14it/s]\n",
      "Validating: 100%|██████████| 29/29 [00:16<00:00,  1.81it/s]\n"
     ]
    },
    {
     "name": "stdout",
     "output_type": "stream",
     "text": [
      "Epoch 8/10:\n",
      "  Train Loss: 1.0657, Train Acc: 59.75%\n",
      "  Val Loss: 1.1073, Val Acc: 56.80%\n",
      "\n"
     ]
    },
    {
     "name": "stderr",
     "output_type": "stream",
     "text": [
      "Training: 100%|██████████| 113/113 [01:37<00:00,  1.16it/s]\n",
      "Validating: 100%|██████████| 29/29 [00:15<00:00,  1.81it/s]\n"
     ]
    },
    {
     "name": "stdout",
     "output_type": "stream",
     "text": [
      "Epoch 9/10:\n",
      "  Train Loss: 1.0589, Train Acc: 59.90%\n",
      "  Val Loss: 1.1021, Val Acc: 56.59%\n",
      "\n"
     ]
    },
    {
     "name": "stderr",
     "output_type": "stream",
     "text": [
      "Training: 100%|██████████| 113/113 [01:40<00:00,  1.12it/s]\n",
      "Validating: 100%|██████████| 29/29 [00:16<00:00,  1.72it/s]\n"
     ]
    },
    {
     "name": "stdout",
     "output_type": "stream",
     "text": [
      "Epoch 10/10:\n",
      "  Train Loss: 1.0599, Train Acc: 59.92%\n",
      "  Val Loss: 1.1025, Val Acc: 56.46%\n",
      "\n"
     ]
    },
    {
     "data": {
      "image/png": "[encoded data removed]",
      "text/plain": [
       "<Figure size 1200x400 with 2 Axes>"
      ]
     },
     "metadata": {},
     "output_type": "display_data"
    },
    {
     "name": "stdout",
     "output_type": "stream",
     "text": [
      "\n",
      "Stage 2: Fine-tuning full network...\n",
      "extra_epochs = 15\n"
     ]
    },
    {
     "name": "stderr",
     "output_type": "stream",
     "text": [
      "Training: 100%|██████████| 113/113 [02:14<00:00,  1.19s/it]\n",
      "Validating: 100%|██████████| 29/29 [00:16<00:00,  1.79it/s]\n"
     ]
    },
    {
     "name": "stdout",
     "output_type": "stream",
     "text": [
      "Epoch 1/15:\n",
      "  Train Loss: 1.0543, Train Acc: 59.89%\n",
      "  Val Loss: 1.0798, Val Acc: 57.73%\n",
      "  새로운 최고 성능! 모델 저장됨 (Val Acc: 57.73%)\n",
      "\n"
     ]
    },
    {
     "name": "stderr",
     "output_type": "stream",
     "text": [
      "Training: 100%|██████████| 113/113 [02:14<00:00,  1.19s/it]\n",
      "Validating: 100%|██████████| 29/29 [00:15<00:00,  1.90it/s]\n"
     ]
    },
    {
     "name": "stdout",
     "output_type": "stream",
     "text": [
      "Epoch 2/15:\n",
      "  Train Loss: 1.0249, Train Acc: 61.25%\n",
      "  Val Loss: 1.0753, Val Acc: 58.09%\n",
      "  새로운 최고 성능! 모델 저장됨 (Val Acc: 58.09%)\n",
      "\n"
     ]
    },
    {
     "name": "stderr",
     "output_type": "stream",
     "text": [
      "Training: 100%|██████████| 113/113 [02:14<00:00,  1.19s/it]\n",
      "Validating: 100%|██████████| 29/29 [00:15<00:00,  1.85it/s]\n"
     ]
    },
    {
     "name": "stdout",
     "output_type": "stream",
     "text": [
      "Epoch 3/15:\n",
      "  Train Loss: 1.0300, Train Acc: 61.33%\n",
      "  Val Loss: 1.0503, Val Acc: 58.86%\n",
      "  새로운 최고 성능! 모델 저장됨 (Val Acc: 58.86%)\n",
      "\n"
     ]
    },
    {
     "name": "stderr",
     "output_type": "stream",
     "text": [
      "Training: 100%|██████████| 113/113 [02:15<00:00,  1.20s/it]\n",
      "Validating: 100%|██████████| 29/29 [00:16<00:00,  1.72it/s]\n"
     ]
    },
    {
     "name": "stdout",
     "output_type": "stream",
     "text": [
      "Epoch 4/15:\n",
      "  Train Loss: 1.0084, Train Acc: 62.24%\n",
      "  Val Loss: 1.0320, Val Acc: 59.86%\n",
      "  새로운 최고 성능! 모델 저장됨 (Val Acc: 59.86%)\n",
      "\n"
     ]
    },
    {
     "name": "stderr",
     "output_type": "stream",
     "text": [
      "Training: 100%|██████████| 113/113 [02:15<00:00,  1.20s/it]\n",
      "Validating: 100%|██████████| 29/29 [00:16<00:00,  1.73it/s]\n"
     ]
    },
    {
     "name": "stdout",
     "output_type": "stream",
     "text": [
      "Epoch 5/15:\n",
      "  Train Loss: 0.9714, Train Acc: 63.14%\n",
      "  Val Loss: 1.0124, Val Acc: 60.25%\n",
      "  새로운 최고 성능! 모델 저장됨 (Val Acc: 60.25%)\n",
      "\n"
     ]
    },
    {
     "name": "stderr",
     "output_type": "stream",
     "text": [
      "Training: 100%|██████████| 113/113 [02:14<00:00,  1.19s/it]\n",
      "Validating: 100%|██████████| 29/29 [00:16<00:00,  1.75it/s]\n"
     ]
    },
    {
     "name": "stdout",
     "output_type": "stream",
     "text": [
      "Epoch 6/15:\n",
      "  Train Loss: 0.9511, Train Acc: 64.54%\n",
      "  Val Loss: 1.0042, Val Acc: 61.02%\n",
      "  새로운 최고 성능! 모델 저장됨 (Val Acc: 61.02%)\n",
      "\n"
     ]
    },
    {
     "name": "stderr",
     "output_type": "stream",
     "text": [
      "Training: 100%|██████████| 113/113 [02:13<00:00,  1.18s/it]\n",
      "Validating: 100%|██████████| 29/29 [00:16<00:00,  1.79it/s]\n"
     ]
    },
    {
     "name": "stdout",
     "output_type": "stream",
     "text": [
      "Epoch 7/15:\n",
      "  Train Loss: 0.9287, Train Acc: 65.31%\n",
      "  Val Loss: 0.9897, Val Acc: 61.40%\n",
      "  새로운 최고 성능! 모델 저장됨 (Val Acc: 61.40%)\n",
      "\n"
     ]
    },
    {
     "name": "stderr",
     "output_type": "stream",
     "text": [
      "Training: 100%|██████████| 113/113 [02:14<00:00,  1.19s/it]\n",
      "Validating: 100%|██████████| 29/29 [00:15<00:00,  1.82it/s]\n"
     ]
    },
    {
     "name": "stdout",
     "output_type": "stream",
     "text": [
      "Epoch 8/15:\n",
      "  Train Loss: 0.9087, Train Acc: 66.08%\n",
      "  Val Loss: 0.9876, Val Acc: 61.58%\n",
      "  새로운 최고 성능! 모델 저장됨 (Val Acc: 61.58%)\n",
      "\n"
     ]
    },
    {
     "name": "stderr",
     "output_type": "stream",
     "text": [
      "Training: 100%|██████████| 113/113 [02:14<00:00,  1.19s/it]\n",
      "Validating: 100%|██████████| 29/29 [00:16<00:00,  1.75it/s]\n"
     ]
    },
    {
     "name": "stdout",
     "output_type": "stream",
     "text": [
      "Epoch 9/15:\n",
      "  Train Loss: 0.9103, Train Acc: 65.89%\n",
      "  Val Loss: 0.9898, Val Acc: 61.58%\n",
      "\n"
     ]
    },
    {
     "name": "stderr",
     "output_type": "stream",
     "text": [
      "Training: 100%|██████████| 113/113 [02:14<00:00,  1.19s/it]\n",
      "Validating: 100%|██████████| 29/29 [00:15<00:00,  1.92it/s]\n"
     ]
    },
    {
     "name": "stdout",
     "output_type": "stream",
     "text": [
      "Epoch 10/15:\n",
      "  Train Loss: 0.8987, Train Acc: 66.62%\n",
      "  Val Loss: 0.9837, Val Acc: 61.63%\n",
      "  새로운 최고 성능! 모델 저장됨 (Val Acc: 61.63%)\n",
      "\n"
     ]
    },
    {
     "name": "stderr",
     "output_type": "stream",
     "text": [
      "Training: 100%|██████████| 113/113 [02:15<00:00,  1.20s/it]\n",
      "Validating: 100%|██████████| 29/29 [00:15<00:00,  1.90it/s]\n"
     ]
    },
    {
     "name": "stdout",
     "output_type": "stream",
     "text": [
      "Epoch 11/15:\n",
      "  Train Loss: 0.8918, Train Acc: 66.66%\n",
      "  Val Loss: 0.9809, Val Acc: 61.59%\n",
      "\n"
     ]
    },
    {
     "name": "stderr",
     "output_type": "stream",
     "text": [
      "Training: 100%|██████████| 113/113 [02:15<00:00,  1.20s/it]\n",
      "Validating: 100%|██████████| 29/29 [00:15<00:00,  1.89it/s]\n"
     ]
    },
    {
     "name": "stdout",
     "output_type": "stream",
     "text": [
      "Epoch 12/15:\n",
      "  Train Loss: 0.8805, Train Acc: 67.04%\n",
      "  Val Loss: 0.9788, Val Acc: 61.60%\n",
      "\n"
     ]
    },
    {
     "name": "stderr",
     "output_type": "stream",
     "text": [
      "Training: 100%|██████████| 113/113 [02:15<00:00,  1.20s/it]\n",
      "Validating: 100%|██████████| 29/29 [00:16<00:00,  1.78it/s]\n"
     ]
    },
    {
     "name": "stdout",
     "output_type": "stream",
     "text": [
      "Epoch 13/15:\n",
      "  Train Loss: 0.8725, Train Acc: 67.53%\n",
      "  Val Loss: 0.9808, Val Acc: 61.84%\n",
      "  새로운 최고 성능! 모델 저장됨 (Val Acc: 61.84%)\n",
      "\n"
     ]
    },
    {
     "name": "stderr",
     "output_type": "stream",
     "text": [
      "Training: 100%|██████████| 113/113 [02:15<00:00,  1.20s/it]\n",
      "Validating: 100%|██████████| 29/29 [00:15<00:00,  1.92it/s]\n"
     ]
    },
    {
     "name": "stdout",
     "output_type": "stream",
     "text": [
      "Epoch 14/15:\n",
      "  Train Loss: 0.8630, Train Acc: 68.22%\n",
      "  Val Loss: 0.9816, Val Acc: 61.91%\n",
      "  새로운 최고 성능! 모델 저장됨 (Val Acc: 61.91%)\n",
      "\n"
     ]
    },
    {
     "name": "stderr",
     "output_type": "stream",
     "text": [
      "Training: 100%|██████████| 113/113 [02:15<00:00,  1.20s/it]\n",
      "Validating: 100%|██████████| 29/29 [00:15<00:00,  1.88it/s]\n"
     ]
    },
    {
     "name": "stdout",
     "output_type": "stream",
     "text": [
      "Epoch 15/15:\n",
      "  Train Loss: 0.8662, Train Acc: 67.89%\n",
      "  Val Loss: 0.9741, Val Acc: 62.50%\n",
      "  새로운 최고 성능! 모델 저장됨 (Val Acc: 62.50%)\n",
      "\n",
      "✅ 추가 학습 완료, 가중치 저장됨 → best_model_finetuned.pth\n"
     ]
    },
    {
     "data": {
      "image/png": "[encoded data removed]",
      "text/plain": [
       "<Figure size 1200x400 with 2 Axes>"
      ]
     },
     "metadata": {},
     "output_type": "display_data"
    }
   ],
   "source": [
    "import torch\n",
    "from models.classifier import create_emotion_classifier\n",
    "from utils.dataset import create_dataloaders\n",
    "from utils.trainer import EmotionTrainer\n",
    "from configs.config import Config\n",
    "\n",
    "# 데이터 로더 생성\n",
    "train_loader, val_loader = create_dataloaders(\n",
    "    data_dir=Config.DATA_DIR,\n",
    "    batch_size=256,\n",
    "    num_workers=4\n",
    ")\n",
    "\n",
    "# 모델 생성\n",
    "model = create_emotion_classifier(\n",
    "    num_classes=Config.NUM_CLASSES,\n",
    "    backbone_name=Config.MODEL_NAME\n",
    ")\n",
    "model = model.to(Config.DEVICE)\n",
    "\n",
    "# 저장된 가중치 로드\n",
    "checkpoint = torch.load('best_model_init.pth', map_location=Config.DEVICE)\n",
    "model.load_state_dict(checkpoint)\n",
    "print(\"✅ best_model_init.pth 로드 완료\")\n",
    "\n",
    "# 트레이너 초기화\n",
    "trainer = EmotionTrainer(\n",
    "    model=model,\n",
    "    train_loader=train_loader,\n",
    "    val_loader=val_loader,\n",
    "    device=Config.DEVICE\n",
    ")\n",
    "\n",
    "# 1단계: 분류기만 학습\n",
    "extra_epochs_1 = 10\n",
    "print(\"Stage 1: Training classifier only...\")\n",
    "print(f'extra_epochs = {extra_epochs_1}')\n",
    "history1 = trainer.train_classifier_only(\n",
    "    epochs=extra_epochs_1,\n",
    "    lr=Config.CLASSIFIER_LR\n",
    ")\n",
    "trainer.plot_history(history1)\n",
    "\n",
    "# 2단계: 전체 네트워크 미세조정\n",
    "extra_epochs_2 = 15\n",
    "print(\"\\nStage 2: Fine-tuning full network...\")\n",
    "print(f'extra_epochs = {extra_epochs_2}')\n",
    "history2 = trainer.train_full_network(\n",
    "    epochs=extra_epochs_2,\n",
    "    backbone_lr=Config.BACKBONE_LR,\n",
    "    classifier_lr=Config.CLASSIFIER_LR_FINETUNE\n",
    ")\n",
    "\n",
    "# 추가 학습 후 가중치 저장\n",
    "torch.save(model.state_dict(), 'best_model_finetuned.pth')\n",
    "print(\"✅ 추가 학습 완료, 가중치 저장됨 → best_model_finetuned.pth\")\n",
    "\n",
    "trainer.plot_history(history2)"
   ]
  },
  {
   "cell_type": "code",
   "execution_count": 4,
   "metadata": {
    "executionInfo": {
     "elapsed": 1,
     "status": "ok",
     "timestamp": 1758250649456,
     "user": {
      "displayName": "YEON SEOK JU",
      "userId": "18169679349381523278"
     },
     "user_tz": -540
    },
    "id": "Nvb1PpARrOH4"
   },
   "outputs": [],
   "source": []
  }
 ],
 "metadata": {
  "accelerator": "GPU",
  "colab": {
   "authorship_tag": "ABX9TyM9XSN+bqoRLwBf4bupBQ/i",
   "gpuType": "T4",
   "mount_file_id": "1nt_sxalDjdwojIkEpNV4-8zU8WwFOD_7",
   "provenance": []
  },
  "kernelspec": {
   "display_name": "Python 3",
   "name": "python3"
  },
  "language_info": {
   "name": "python"
  },
  "widgets": {
   "application/vnd.jupyter.widget-state+json": {
    "1b33c8e2449647fa8469487b164643d7": {
     "model_module": "@jupyter-widgets/controls",
     "model_module_version": "1.5.0",
     "model_name": "HTMLModel",
     "state": {
      "_dom_classes": [],
      "_model_module": "@jupyter-widgets/controls",
      "_model_module_version": "1.5.0",
      "_model_name": "HTMLModel",
      "_view_count": null,
      "_view_module": "@jupyter-widgets/controls",
      "_view_module_version": "1.5.0",
      "_view_name": "HTMLView",
      "description": "",
      "description_tooltip": null,
      "layout": "IPY_MODEL_90523796c5184d68b087d712645c0985",
      "placeholder": "​",
      "style": "IPY_MODEL_56d5f2c7168347b9a8e9c737d9912249",
      "value": " 39.2M/39.2M [00:00&lt;00:00, 135MB/s]"
     }
    },
    "221e6e747d4d46c6aa3e2b27501c753d": {
     "model_module": "@jupyter-widgets/controls",
     "model_module_version": "1.5.0",
     "model_name": "HBoxModel",
     "state": {
      "_dom_classes": [],
      "_model_module": "@jupyter-widgets/controls",
      "_model_module_version": "1.5.0",
      "_model_name": "HBoxModel",
      "_view_count": null,
      "_view_module": "@jupyter-widgets/controls",
      "_view_module_version": "1.5.0",
      "_view_name": "HBoxView",
      "box_style": "",
      "children": [
       "IPY_MODEL_f2539eef78cd49a28fa994a5b7bed9d2",
       "IPY_MODEL_6965f606caca4fdbb42ff6b00993de23",
       "IPY_MODEL_1b33c8e2449647fa8469487b164643d7"
      ],
      "layout": "IPY_MODEL_e799fa3929694ed2b22220eef13f9786"
     }
    },
    "3ed8e1b5949b4ea2a14eec792bcb99bd": {
     "model_module": "@jupyter-widgets/controls",
     "model_module_version": "1.5.0",
     "model_name": "ProgressStyleModel",
     "state": {
      "_model_module": "@jupyter-widgets/controls",
      "_model_module_version": "1.5.0",
      "_model_name": "ProgressStyleModel",
      "_view_count": null,
      "_view_module": "@jupyter-widgets/base",
      "_view_module_version": "1.2.0",
      "_view_name": "StyleView",
      "bar_color": null,
      "description_width": ""
     }
    },
    "4808ba5ac641485aae76b03dd5d4cdca": {
     "model_module": "@jupyter-widgets/controls",
     "model_module_version": "1.5.0",
     "model_name": "DescriptionStyleModel",
     "state": {
      "_model_module": "@jupyter-widgets/controls",
      "_model_module_version": "1.5.0",
      "_model_name": "DescriptionStyleModel",
      "_view_count": null,
      "_view_module": "@jupyter-widgets/base",
      "_view_module_version": "1.2.0",
      "_view_name": "StyleView",
      "description_width": ""
     }
    },
    "48300156ee2147f8965ccd99a63bae9f": {
     "model_module": "@jupyter-widgets/base",
     "model_module_version": "1.2.0",
     "model_name": "LayoutModel",
     "state": {
      "_model_module": "@jupyter-widgets/base",
      "_model_module_version": "1.2.0",
      "_model_name": "LayoutModel",
      "_view_count": null,
      "_view_module": "@jupyter-widgets/base",
      "_view_module_version": "1.2.0",
      "_view_name": "LayoutView",
      "align_content": null,
      "align_items": null,
      "align_self": null,
      "border": null,
      "bottom": null,
      "display": null,
      "flex": null,
      "flex_flow": null,
      "grid_area": null,
      "grid_auto_columns": null,
      "grid_auto_flow": null,
      "grid_auto_rows": null,
      "grid_column": null,
      "grid_gap": null,
      "grid_row": null,
      "grid_template_areas": null,
      "grid_template_columns": null,
      "grid_template_rows": null,
      "height": null,
      "justify_content": null,
      "justify_items": null,
      "left": null,
      "margin": null,
      "max_height": null,
      "max_width": null,
      "min_height": null,
      "min_width": null,
      "object_fit": null,
      "object_position": null,
      "order": null,
      "overflow": null,
      "overflow_x": null,
      "overflow_y": null,
      "padding": null,
      "right": null,
      "top": null,
      "visibility": null,
      "width": null
     }
    },
    "4eed20e56bf74925838f85cc931b0562": {
     "model_module": "@jupyter-widgets/base",
     "model_module_version": "1.2.0",
     "model_name": "LayoutModel",
     "state": {
      "_model_module": "@jupyter-widgets/base",
      "_model_module_version": "1.2.0",
      "_model_name": "LayoutModel",
      "_view_count": null,
      "_view_module": "@jupyter-widgets/base",
      "_view_module_version": "1.2.0",
      "_view_name": "LayoutView",
      "align_content": null,
      "align_items": null,
      "align_self": null,
      "border": null,
      "bottom": null,
      "display": null,
      "flex": null,
      "flex_flow": null,
      "grid_area": null,
      "grid_auto_columns": null,
      "grid_auto_flow": null,
      "grid_auto_rows": null,
      "grid_column": null,
      "grid_gap": null,
      "grid_row": null,
      "grid_template_areas": null,
      "grid_template_columns": null,
      "grid_template_rows": null,
      "height": null,
      "justify_content": null,
      "justify_items": null,
      "left": null,
      "margin": null,
      "max_height": null,
      "max_width": null,
      "min_height": null,
      "min_width": null,
      "object_fit": null,
      "object_position": null,
      "order": null,
      "overflow": null,
      "overflow_x": null,
      "overflow_y": null,
      "padding": null,
      "right": null,
      "top": null,
      "visibility": null,
      "width": null
     }
    },
    "56d5f2c7168347b9a8e9c737d9912249": {
     "model_module": "@jupyter-widgets/controls",
     "model_module_version": "1.5.0",
     "model_name": "DescriptionStyleModel",
     "state": {
      "_model_module": "@jupyter-widgets/controls",
      "_model_module_version": "1.5.0",
      "_model_name": "DescriptionStyleModel",
      "_view_count": null,
      "_view_module": "@jupyter-widgets/base",
      "_view_module_version": "1.2.0",
      "_view_name": "StyleView",
      "description_width": ""
     }
    },
    "693904ee67364f0a906422db8d11d36c": {
     "model_module": "@jupyter-widgets/base",
     "model_module_version": "1.2.0",
     "model_name": "LayoutModel",
     "state": {
      "_model_module": "@jupyter-widgets/base",
      "_model_module_version": "1.2.0",
      "_model_name": "LayoutModel",
      "_view_count": null,
      "_view_module": "@jupyter-widgets/base",
      "_view_module_version": "1.2.0",
      "_view_name": "LayoutView",
      "align_content": null,
      "align_items": null,
      "align_self": null,
      "border": null,
      "bottom": null,
      "display": null,
      "flex": null,
      "flex_flow": null,
      "grid_area": null,
      "grid_auto_columns": null,
      "grid_auto_flow": null,
      "grid_auto_rows": null,
      "grid_column": null,
      "grid_gap": null,
      "grid_row": null,
      "grid_template_areas": null,
      "grid_template_columns": null,
      "grid_template_rows": null,
      "height": null,
      "justify_content": null,
      "justify_items": null,
      "left": null,
      "margin": null,
      "max_height": null,
      "max_width": null,
      "min_height": null,
      "min_width": null,
      "object_fit": null,
      "object_position": null,
      "order": null,
      "overflow": null,
      "overflow_x": null,
      "overflow_y": null,
      "padding": null,
      "right": null,
      "top": null,
      "visibility": null,
      "width": null
     }
    },
    "6965f606caca4fdbb42ff6b00993de23": {
     "model_module": "@jupyter-widgets/controls",
     "model_module_version": "1.5.0",
     "model_name": "FloatProgressModel",
     "state": {
      "_dom_classes": [],
      "_model_module": "@jupyter-widgets/controls",
      "_model_module_version": "1.5.0",
      "_model_name": "FloatProgressModel",
      "_view_count": null,
      "_view_module": "@jupyter-widgets/controls",
      "_view_module_version": "1.5.0",
      "_view_name": "ProgressView",
      "bar_style": "success",
      "description": "",
      "description_tooltip": null,
      "layout": "IPY_MODEL_693904ee67364f0a906422db8d11d36c",
      "max": 39179184,
      "min": 0,
      "orientation": "horizontal",
      "style": "IPY_MODEL_3ed8e1b5949b4ea2a14eec792bcb99bd",
      "value": 39179184
     }
    },
    "7dbb93f818da44c1b352d11a20839c46": {
     "model_module": "@jupyter-widgets/controls",
     "model_module_version": "1.5.0",
     "model_name": "HTMLModel",
     "state": {
      "_dom_classes": [],
      "_model_module": "@jupyter-widgets/controls",
      "_model_module_version": "1.5.0",
      "_model_name": "HTMLModel",
      "_view_count": null,
      "_view_module": "@jupyter-widgets/controls",
      "_view_module_version": "1.5.0",
      "_view_name": "HTMLView",
      "description": "",
      "description_tooltip": null,
      "layout": "IPY_MODEL_b7758b4edb104071b4d45a0fb9a611a0",
      "placeholder": "​",
      "style": "IPY_MODEL_4808ba5ac641485aae76b03dd5d4cdca",
      "value": "config.json: 100%"
     }
    },
    "8a5c2d95b73044d18f80526349409d0a": {
     "model_module": "@jupyter-widgets/controls",
     "model_module_version": "1.5.0",
     "model_name": "FloatProgressModel",
     "state": {
      "_dom_classes": [],
      "_model_module": "@jupyter-widgets/controls",
      "_model_module_version": "1.5.0",
      "_model_name": "FloatProgressModel",
      "_view_count": null,
      "_view_module": "@jupyter-widgets/controls",
      "_view_module_version": "1.5.0",
      "_view_name": "ProgressView",
      "bar_style": "success",
      "description": "",
      "description_tooltip": null,
      "layout": "IPY_MODEL_c97bdaabd56a4a20be0ada60b33e106f",
      "max": 679,
      "min": 0,
      "orientation": "horizontal",
      "style": "IPY_MODEL_f76db1ec2cd647288cd8c1b010a72841",
      "value": 679
     }
    },
    "90523796c5184d68b087d712645c0985": {
     "model_module": "@jupyter-widgets/base",
     "model_module_version": "1.2.0",
     "model_name": "LayoutModel",
     "state": {
      "_model_module": "@jupyter-widgets/base",
      "_model_module_version": "1.2.0",
      "_model_name": "LayoutModel",
      "_view_count": null,
      "_view_module": "@jupyter-widgets/base",
      "_view_module_version": "1.2.0",
      "_view_name": "LayoutView",
      "align_content": null,
      "align_items": null,
      "align_self": null,
      "border": null,
      "bottom": null,
      "display": null,
      "flex": null,
      "flex_flow": null,
      "grid_area": null,
      "grid_auto_columns": null,
      "grid_auto_flow": null,
      "grid_auto_rows": null,
      "grid_column": null,
      "grid_gap": null,
      "grid_row": null,
      "grid_template_areas": null,
      "grid_template_columns": null,
      "grid_template_rows": null,
      "height": null,
      "justify_content": null,
      "justify_items": null,
      "left": null,
      "margin": null,
      "max_height": null,
      "max_width": null,
      "min_height": null,
      "min_width": null,
      "object_fit": null,
      "object_position": null,
      "order": null,
      "overflow": null,
      "overflow_x": null,
      "overflow_y": null,
      "padding": null,
      "right": null,
      "top": null,
      "visibility": null,
      "width": null
     }
    },
    "b7758b4edb104071b4d45a0fb9a611a0": {
     "model_module": "@jupyter-widgets/base",
     "model_module_version": "1.2.0",
     "model_name": "LayoutModel",
     "state": {
      "_model_module": "@jupyter-widgets/base",
      "_model_module_version": "1.2.0",
      "_model_name": "LayoutModel",
      "_view_count": null,
      "_view_module": "@jupyter-widgets/base",
      "_view_module_version": "1.2.0",
      "_view_name": "LayoutView",
      "align_content": null,
      "align_items": null,
      "align_self": null,
      "border": null,
      "bottom": null,
      "display": null,
      "flex": null,
      "flex_flow": null,
      "grid_area": null,
      "grid_auto_columns": null,
      "grid_auto_flow": null,
      "grid_auto_rows": null,
      "grid_column": null,
      "grid_gap": null,
      "grid_row": null,
      "grid_template_areas": null,
      "grid_template_columns": null,
      "grid_template_rows": null,
      "height": null,
      "justify_content": null,
      "justify_items": null,
      "left": null,
      "margin": null,
      "max_height": null,
      "max_width": null,
      "min_height": null,
      "min_width": null,
      "object_fit": null,
      "object_position": null,
      "order": null,
      "overflow": null,
      "overflow_x": null,
      "overflow_y": null,
      "padding": null,
      "right": null,
      "top": null,
      "visibility": null,
      "width": null
     }
    },
    "c97bdaabd56a4a20be0ada60b33e106f": {
     "model_module": "@jupyter-widgets/base",
     "model_module_version": "1.2.0",
     "model_name": "LayoutModel",
     "state": {
      "_model_module": "@jupyter-widgets/base",
      "_model_module_version": "1.2.0",
      "_model_name": "LayoutModel",
      "_view_count": null,
      "_view_module": "@jupyter-widgets/base",
      "_view_module_version": "1.2.0",
      "_view_name": "LayoutView",
      "align_content": null,
      "align_items": null,
      "align_self": null,
      "border": null,
      "bottom": null,
      "display": null,
      "flex": null,
      "flex_flow": null,
      "grid_area": null,
      "grid_auto_columns": null,
      "grid_auto_flow": null,
      "grid_auto_rows": null,
      "grid_column": null,
      "grid_gap": null,
      "grid_row": null,
      "grid_template_areas": null,
      "grid_template_columns": null,
      "grid_template_rows": null,
      "height": null,
      "justify_content": null,
      "justify_items": null,
      "left": null,
      "margin": null,
      "max_height": null,
      "max_width": null,
      "min_height": null,
      "min_width": null,
      "object_fit": null,
      "object_position": null,
      "order": null,
      "overflow": null,
      "overflow_x": null,
      "overflow_y": null,
      "padding": null,
      "right": null,
      "top": null,
      "visibility": null,
      "width": null
     }
    },
    "c9afc807bc754c38860f7dceeac81ee5": {
     "model_module": "@jupyter-widgets/controls",
     "model_module_version": "1.5.0",
     "model_name": "HBoxModel",
     "state": {
      "_dom_classes": [],
      "_model_module": "@jupyter-widgets/controls",
      "_model_module_version": "1.5.0",
      "_model_name": "HBoxModel",
      "_view_count": null,
      "_view_module": "@jupyter-widgets/controls",
      "_view_module_version": "1.5.0",
      "_view_name": "HBoxView",
      "box_style": "",
      "children": [
       "IPY_MODEL_7dbb93f818da44c1b352d11a20839c46",
       "IPY_MODEL_8a5c2d95b73044d18f80526349409d0a",
       "IPY_MODEL_e2fd07965ea94b6a8b68a980370ad7dc"
      ],
      "layout": "IPY_MODEL_4eed20e56bf74925838f85cc931b0562"
     }
    },
    "d5f428de8a5245d5b1016335876da959": {
     "model_module": "@jupyter-widgets/controls",
     "model_module_version": "1.5.0",
     "model_name": "DescriptionStyleModel",
     "state": {
      "_model_module": "@jupyter-widgets/controls",
      "_model_module_version": "1.5.0",
      "_model_name": "DescriptionStyleModel",
      "_view_count": null,
      "_view_module": "@jupyter-widgets/base",
      "_view_module_version": "1.2.0",
      "_view_name": "StyleView",
      "description_width": ""
     }
    },
    "e2fd07965ea94b6a8b68a980370ad7dc": {
     "model_module": "@jupyter-widgets/controls",
     "model_module_version": "1.5.0",
     "model_name": "HTMLModel",
     "state": {
      "_dom_classes": [],
      "_model_module": "@jupyter-widgets/controls",
      "_model_module_version": "1.5.0",
      "_model_name": "HTMLModel",
      "_view_count": null,
      "_view_module": "@jupyter-widgets/controls",
      "_view_module_version": "1.5.0",
      "_view_name": "HTMLView",
      "description": "",
      "description_tooltip": null,
      "layout": "IPY_MODEL_48300156ee2147f8965ccd99a63bae9f",
      "placeholder": "​",
      "style": "IPY_MODEL_d5f428de8a5245d5b1016335876da959",
      "value": " 679/679 [00:00&lt;00:00, 73.9kB/s]"
     }
    },
    "e799fa3929694ed2b22220eef13f9786": {
     "model_module": "@jupyter-widgets/base",
     "model_module_version": "1.2.0",
     "model_name": "LayoutModel",
     "state": {
      "_model_module": "@jupyter-widgets/base",
      "_model_module_version": "1.2.0",
      "_model_name": "LayoutModel",
      "_view_count": null,
      "_view_module": "@jupyter-widgets/base",
      "_view_module_version": "1.2.0",
      "_view_name": "LayoutView",
      "align_content": null,
      "align_items": null,
      "align_self": null,
      "border": null,
      "bottom": null,
      "display": null,
      "flex": null,
      "flex_flow": null,
      "grid_area": null,
      "grid_auto_columns": null,
      "grid_auto_flow": null,
      "grid_auto_rows": null,
      "grid_column": null,
      "grid_gap": null,
      "grid_row": null,
      "grid_template_areas": null,
      "grid_template_columns": null,
      "grid_template_rows": null,
      "height": null,
      "justify_content": null,
      "justify_items": null,
      "left": null,
      "margin": null,
      "max_height": null,
      "max_width": null,
      "min_height": null,
      "min_width": null,
      "object_fit": null,
      "object_position": null,
      "order": null,
      "overflow": null,
      "overflow_x": null,
      "overflow_y": null,
      "padding": null,
      "right": null,
      "top": null,
      "visibility": null,
      "width": null
     }
    },
    "f2539eef78cd49a28fa994a5b7bed9d2": {
     "model_module": "@jupyter-widgets/controls",
     "model_module_version": "1.5.0",
     "model_name": "HTMLModel",
     "state": {
      "_dom_classes": [],
      "_model_module": "@jupyter-widgets/controls",
      "_model_module_version": "1.5.0",
      "_model_name": "HTMLModel",
      "_view_count": null,
      "_view_module": "@jupyter-widgets/controls",
      "_view_module_version": "1.5.0",
      "_view_name": "HTMLView",
      "description": "",
      "description_tooltip": null,
      "layout": "IPY_MODEL_f4f56eb0ada041ce836926a810a077a2",
      "placeholder": "​",
      "style": "IPY_MODEL_f52be6b158194a2d9fb9d6191531ac73",
      "value": "model.safetensors: 100%"
     }
    },
    "f4f56eb0ada041ce836926a810a077a2": {
     "model_module": "@jupyter-widgets/base",
     "model_module_version": "1.2.0",
     "model_name": "LayoutModel",
     "state": {
      "_model_module": "@jupyter-widgets/base",
      "_model_module_version": "1.2.0",
      "_model_name": "LayoutModel",
      "_view_count": null,
      "_view_module": "@jupyter-widgets/base",
      "_view_module_version": "1.2.0",
      "_view_name": "LayoutView",
      "align_content": null,
      "align_items": null,
      "align_self": null,
      "border": null,
      "bottom": null,
      "display": null,
      "flex": null,
      "flex_flow": null,
      "grid_area": null,
      "grid_auto_columns": null,
      "grid_auto_flow": null,
      "grid_auto_rows": null,
      "grid_column": null,
      "grid_gap": null,
      "grid_row": null,
      "grid_template_areas": null,
      "grid_template_columns": null,
      "grid_template_rows": null,
      "height": null,
      "justify_content": null,
      "justify_items": null,
      "left": null,
      "margin": null,
      "max_height": null,
      "max_width": null,
      "min_height": null,
      "min_width": null,
      "object_fit": null,
      "object_position": null,
      "order": null,
      "overflow": null,
      "overflow_x": null,
      "overflow_y": null,
      "padding": null,
      "right": null,
      "top": null,
      "visibility": null,
      "width": null
     }
    },
    "f52be6b158194a2d9fb9d6191531ac73": {
     "model_module": "@jupyter-widgets/controls",
     "model_module_version": "1.5.0",
     "model_name": "DescriptionStyleModel",
     "state": {
      "_model_module": "@jupyter-widgets/controls",
      "_model_module_version": "1.5.0",
      "_model_name": "DescriptionStyleModel",
      "_view_count": null,
      "_view_module": "@jupyter-widgets/base",
      "_view_module_version": "1.2.0",
      "_view_name": "StyleView",
      "description_width": ""
     }
    },
    "f76db1ec2cd647288cd8c1b010a72841": {
     "model_module": "@jupyter-widgets/controls",
     "model_module_version": "1.5.0",
     "model_name": "ProgressStyleModel",
     "state": {
      "_model_module": "@jupyter-widgets/controls",
      "_model_module_version": "1.5.0",
      "_model_name": "ProgressStyleModel",
      "_view_count": null,
      "_view_module": "@jupyter-widgets/base",
      "_view_module_version": "1.2.0",
      "_view_name": "StyleView",
      "bar_color": null,
      "description_width": ""
     }
    }
   }
  }
 },
 "nbformat": 4,
 "nbformat_minor": 0
}
